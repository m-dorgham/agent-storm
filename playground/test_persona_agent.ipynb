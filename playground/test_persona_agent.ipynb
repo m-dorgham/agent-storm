{
 "cells": [
  {
   "cell_type": "markdown",
   "id": "c7ea0eea-142e-4edc-9e95-5b8643a38a6f",
   "metadata": {},
   "source": [
    "## Setup"
   ]
  },
  {
   "cell_type": "code",
   "execution_count": 68,
   "id": "55785917-65ff-4690-bd27-ee748fec6409",
   "metadata": {},
   "outputs": [],
   "source": [
    "import os, getpass\n",
    "\n",
    "def _set_env(var: str):\n",
    "    if not os.environ.get(var):\n",
    "        os.environ[var] = getpass.getpass(f\"{var}: \")\n",
    "\n",
    "_set_env(\"OPENAI_API_KEY\")\n",
    "_set_env(\"TAVILY_API_KEY\")\n",
    "_set_env(\"LANGSMITH_API_KEY\")\n",
    "os.environ[\"LANGSMITH_TRACING\"] = \"true\"\n",
    "os.environ[\"LANGSMITH_PROJECT\"] = \"agent-storming\""
   ]
  },
  {
   "cell_type": "code",
   "execution_count": 75,
   "id": "9b1fe9f1-5630-45e6-b6b0-21188020357e",
   "metadata": {},
   "outputs": [
    {
     "name": "stdout",
     "output_type": "stream",
     "text": [
      "Done reading file ../prompts/web_search_instructions.txt\n",
      "Done reading file ../prompts/generate_opinion_instructions.txt\n"
     ]
    }
   ],
   "source": [
    "# Reading the entire contents of a text file\n",
    "def read_file_contents(filename):\n",
    "    try:\n",
    "        with open(filename, 'r', encoding='utf-8') as file:\n",
    "            content = file.read()\n",
    "            return content\n",
    "    except FileNotFoundError:\n",
    "        print(f\"Error: The file '{filename}' was not found.\")\n",
    "        return None\n",
    "    except PermissionError:\n",
    "        print(f\"Error: Permission denied to read the file '{filename}'.\")\n",
    "        return None\n",
    "    except Exception as e:\n",
    "        print(f\"An error occurred: {e}\")\n",
    "        return None\n",
    "\n",
    "\n",
    "filename = \"../prompts/web_search_instructions.txt\"\n",
    "\n",
    "search_instructions = read_file_contents(filename)\n",
    "if search_instructions is not None:\n",
    "    print(\"Done reading file\", filename)\n",
    "\n",
    "filename = \"../prompts/generate_opinion_instructions.txt\"\n",
    "\n",
    "opinion_instructions = read_file_contents(filename)\n",
    "if opinion_instructions is not None:\n",
    "    print(\"Done reading file\", filename)"
   ]
  },
  {
   "cell_type": "code",
   "execution_count": 70,
   "id": "9b38e82e-5149-497e-9df5-e6b7d6203358",
   "metadata": {},
   "outputs": [],
   "source": [
    "from langchain_openai import ChatOpenAI\n",
    "llm = ChatOpenAI(model=\"gpt-5-mini\", temperature=0)"
   ]
  },
  {
   "cell_type": "markdown",
   "id": "e19519a5-bab1-4d25-96c2-31e00583e555",
   "metadata": {},
   "source": [
    "## Building the graph"
   ]
  },
  {
   "cell_type": "code",
   "execution_count": 71,
   "id": "2f2bf356-549f-42c7-b85d-18f3a79dac4a",
   "metadata": {},
   "outputs": [
    {
     "data": {
      "image/png": "[encoded data removed]",
      "text/plain": [
       "<IPython.core.display.Image object>"
      ]
     },
     "metadata": {},
     "output_type": "display_data"
    }
   ],
   "source": [
    "from langgraph.graph import MessagesState\n",
    "from typing import  Annotated\n",
    "import operator\n",
    "from pydantic import BaseModel, Field\n",
    "from langgraph.graph import START, END, StateGraph\n",
    "from langchain_tavily import TavilySearch\n",
    "from langgraph.checkpoint.memory import MemorySaver\n",
    "from langchain_core.messages import AIMessage, HumanMessage, SystemMessage\n",
    "from IPython.display import Image, display\n",
    "\n",
    "\n",
    "tavily_search = TavilySearch(max_results=5, topic=\"general\", include_raw_content=False)\n",
    "\n",
    "\n",
    "class Persona(BaseModel):\n",
    "    name: str = Field(\n",
    "        description=\"Name of the persona.\"\n",
    "    )\n",
    "    role: str = Field(\n",
    "        description=\"Role of the persona in the context of the topic.\",\n",
    "    )\n",
    "    description: str = Field(\n",
    "        description=\"Description of the persona focus, concerns, and expertise.\",\n",
    "    )\n",
    "    @property\n",
    "    def to_string(self) -> str:\n",
    "        return f\"Name: {self.name}\\nRole: {self.role}\\nDescription: {self.description}\\n\"\n",
    "\n",
    "\n",
    "class PersonaState(MessagesState):\n",
    "    context: str # Source docs\n",
    "    persona: Persona # Expert persona asking questions\n",
    "    topic: str # Topic of discussion\n",
    "\n",
    "\n",
    "class SearchQuery(BaseModel):\n",
    "    search_query: str = Field(None, description=\"Search query for retrieval.\", max_length=300)\n",
    "\n",
    "\n",
    "def search_web(state: PersonaState):\n",
    "    \n",
    "    \"\"\" Retrieve docs from web search \"\"\"\n",
    "\n",
    "    persona = state[\"persona\"]\n",
    "    messages = state[\"messages\"]\n",
    "    topic = state[\"topic\"]\n",
    "    \n",
    "    # Search query\n",
    "    structured_llm = llm.with_structured_output(SearchQuery)\n",
    "    system_message = search_instructions.format(topic=topic, persona=persona.to_string)\n",
    "    search_query = structured_llm.invoke([SystemMessage(content=system_message)]+messages)\n",
    "    \n",
    "    # Search\n",
    "    search_docs = tavily_search.invoke({\"query\": search_query.search_query})\n",
    "              \n",
    "     # Format\n",
    "    formatted_search_docs = \"\\n\\n---\\n\\n\".join(\n",
    "        [\n",
    "            f'<Document href=\"{doc[\"url\"]}\"/>\\n{doc[\"content\"]}\\n</Document>'\n",
    "            for doc in search_docs[\"results\"]\n",
    "        ]\n",
    "    )\n",
    "\n",
    "    return {\"context\": formatted_search_docs} \n",
    "\n",
    "\n",
    "def generate_opinion(state: PersonaState):\n",
    "    \n",
    "    \"\"\" Node to answer a question \"\"\"\n",
    "\n",
    "    # Get state\n",
    "    persona = state[\"persona\"]\n",
    "    messages = state[\"messages\"]\n",
    "    context = state[\"context\"]\n",
    "    topic = state[\"topic\"]\n",
    "\n",
    "    # Generate an opinion\n",
    "    system_message = opinion_instructions.format(topic=topic, persona=persona.to_string, context=context)\n",
    "    opinion = llm.invoke([SystemMessage(content=system_message)]+messages)\n",
    "    \n",
    "    # Append it to state\n",
    "    return {\"messages\": [opinion]}\n",
    "\n",
    "\n",
    "# Add nodes and edges \n",
    "persona_builder = StateGraph(PersonaState)\n",
    "persona_builder.add_node(\"search_web\", search_web)\n",
    "persona_builder.add_node(\"generate_opinion\", generate_opinion)\n",
    "\n",
    "persona_builder.add_edge(START, \"search_web\")\n",
    "persona_builder.add_edge(\"search_web\", \"generate_opinion\")\n",
    "persona_builder.add_edge(\"generate_opinion\", END)\n",
    "\n",
    "# Interview \n",
    "memory = MemorySaver()\n",
    "persona_graph = persona_builder.compile(checkpointer=memory).with_config(run_name=\"Expert Persona\")\n",
    "\n",
    "# View\n",
    "display(Image(persona_graph.get_graph().draw_mermaid_png()))\n"
   ]
  },
  {
   "cell_type": "markdown",
   "id": "518461e3-212d-46b9-a77b-3065b231bcc4",
   "metadata": {},
   "source": [
    "## Testing the graph"
   ]
  },
  {
   "cell_type": "code",
   "execution_count": 80,
   "id": "5ab51646-a5ca-4a87-ba4a-0e8112dd07ee",
   "metadata": {},
   "outputs": [],
   "source": [
    "topic = \"Discussing the architecture and system design for building a real-time object detection system to be deployed on a Raspberry Pi 5\"\n",
    "persona = Persona(name=\"Maya Rao\", role=\"Edge ML Architect\",\n",
    "description=\"Focuses on selecting and designing neural architectures and compression strategies that meet edge constraints. Expertise in efficient model families (MobileNet, EfficientNet-lite, YOLO-tiny), Neural Architecture Search, quantization-aware training, pruning, knowledge distillation, and mixed-precision techniques. Primary concerns are accuracy vs. latency/memory trade-offs, maintaining robustness after compression, and integration with edge runtimes (TensorFlow Lite, ONNX Runtime, TVM). She evaluates performance using realistic benchmarks (FPS, p50/p95 latency, peak memory, energy per inference) and guides model-to-runtime translation.\"\n",
    ")\n",
    "first_message = \"What do you think?\"\n",
    "thread = {\"configurable\": {\"thread_id\": \"52\"}}"
   ]
  },
  {
   "cell_type": "code",
   "execution_count": 81,
   "id": "fe948a8b-9e31-40dd-94eb-ddc63d706050",
   "metadata": {},
   "outputs": [
    {
     "name": "stdout",
     "output_type": "stream",
     "text": [
      "================================\u001b[1m Human Message \u001b[0m=================================\n",
      "\n",
      "What do you think?\n",
      "==================================\u001b[1m Ai Message \u001b[0m==================================\n",
      "\n",
      "Maya Rao, Edge ML Architect\n",
      "\n",
      "My recommendation is to treat this as a 3-phase engineering problem: (1) pick/fit an efficient architecture and target accuracy, (2) aggressively compress and profile on-device, (3) build a low-latency capture–inference pipeline and validate with real benchmarks. For the Pi 5, start with small-but-capable families: MobileNetV2/SSD‑Lite or EfficientDet‑Lite for strict memory/latency budgets, and YOLO‑tiny / YOLO‑NAS‑nano if you need better box quality. Use 320–416px inputs as your baseline and iterate upward only if accuracy demands it.\n",
      "\n",
      "Compression and runtime: prefer quantization-aware training (QAT) to avoid accuracy collapse, and combine pruning + knowledge distillation (teacher -> tiny student) when you need extra throughput. Export to TFLite with XNNPACK and NEON optimizations, or to ONNX Runtime with ARM optimizations — and evaluate TVM compiled kernels if you need further speedups. Aim for INT8 where possible; fallback to float16 if model or ops are unsupported. If your project can tolerate additional hardware cost, Coral TPU gives big throughput boosts, but benchmark first on the stock Pi 5 (Jeff Geerling’s Pi5 tests are a good reference).\n",
      "\n",
      "System architecture and metrics: use picamera2 CSI capture into a producer process with zero-copy/shared memory buffers, one or two worker inference threads, and a lightweight post-processing step (NMS in optimized C++ or fused kernels). Measure p50/p95 latency, FPS, peak RAM, and energy per inference on real scenes (not just synthetic inputs). Targets to aim for depend on use case, but a practical target is 10–20 FPS with p95 <200–250 ms and <1 GB RAM on constrained setups; if you need sub‑100ms p95, expect to use TPU or more aggressive compression.\n",
      "\n",
      "Questions to finalize design: what is your target FPS and acceptable mAP? How many classes and expected scene complexity (crowding, small objects)? Any hard power or memory limits, or willingness to add an edge accelerator (Coral/Movidius)? With those answers I can propose specific model candidates, training/compression recipes, and a deployment checklist (runtime choice, compiler flags, and benchmark scripts).\n"
     ]
    }
   ],
   "source": [
    "results = persona_graph.invoke({\"topic\": topic, \"persona\": persona, \"messages\": first_message}, thread)\n",
    "for message in results[\"messages\"]:\n",
    "    message.pretty_print()"
   ]
  },
  {
   "cell_type": "code",
   "execution_count": 82,
   "id": "6666352e-bc7a-4dca-a218-db2fd143dc37",
   "metadata": {},
   "outputs": [
    {
     "name": "stdout",
     "output_type": "stream",
     "text": [
      "==================================\u001b[1m Ai Message \u001b[0m==================================\n",
      "\n",
      "Maya Rao, Edge ML Architect\n",
      "\n",
      "25 FPS (40 ms/frame) with a 75% mAP is a tight but achievable goal depending on what you mean by “mAP” (mAP@0.5 vs mAP@[.5:.95]) and dataset complexity (number of classes, small objects, occlusion). Clarify that first. If you mean ~75% mAP@0.5 on a curated/custom dataset with moderate object sizes and <20 classes, you can target this on Pi 5 with a carefully chosen model + compression pipeline; if you mean COCO-style mAP@[.5:.95], that target will be unrealistic on the Pi without an external accelerator.\n",
      "\n",
      "Concrete plan and latency budget:\n",
      "- Budget per frame ~40 ms end-to-end: capture + preproc 5–10 ms (CSI camera + zero-copy), model inference 20–25 ms, postproc (NMS, drawing) 5–10 ms. Use producer/consumer threads + frame queue to hide capture latency and keep steady 25 FPS.\n",
      "- Model candidates to iterate: EfficientDet‑Lite1 (or Lite0 if you need lower latency), MobileNetV3-SSD (large-lite variant), and YOLO‑NAS/YOLO‑tiny/Nano families. Start with input 320–416 px; move to 512 only if accuracy requires it.\n",
      "- Compression recipe: train a high-quality teacher on your data, then distill to a smaller student. Apply quantization-aware training to produce INT8 TFLite models (avoid PTQ unless you validate extensively). Combine structured pruning (target ≤30–50% FLOPs cut) + fine-tuning with distillation. Monitor robustness (mAP on held-out, per-class drop).\n",
      "\n",
      "Runtime & deployment:\n",
      "- Primary runtime: TFLite with XNNPACK/NEON on Pi 5 (best off-the-shelf ARM perf). If you hit operator mismatches or need more speed, profile ONNX Runtime (ARM optimizations) and TVM (custom compile) as fallbacks. Keep fallback to float16 only if INT8 accuracy loss is unacceptable.\n",
      "- If after compression you cannot meet 25 FPS at target mAP, add an Edge TPU (Coral) or NCS2 — they greatly improve throughput but require Edge-TPU-compatible quantized graphs and may force architecture constraints.\n",
      "Next steps I need from you: confirm mAP definition, dataset size / number of classes / object sizes, and whether you can add an accelerator. With that I’ll propose 2–3 exact model+QAT+distillation recipes, target input resolutions, and a Pi5 benchmark script (profiling hooks for p50/p95 latency, memory, and power).\n"
     ]
    }
   ],
   "source": [
    "results = persona_graph.invoke({\"messages\": \"target FPS/latency is 25 frames per second, acceptable mAP is 75%\"}, thread)\n",
    "results[\"messages\"][-1].pretty_print()"
   ]
  },
  {
   "cell_type": "code",
   "execution_count": 83,
   "id": "c76ad587-9140-4da6-87cb-90b1ab5d96dd",
   "metadata": {},
   "outputs": [
    {
     "name": "stdout",
     "output_type": "stream",
     "text": [
      "<Document href=\"https://medium.com/accelr-blog/raspberry-pi-object-detection-benchmarks-cc193f287926\"/>\n",
      "Missing: 75% candidates optimization EfficientDet‑ YOLO‑ NAS‑ nano), INT8, pruning+ distillation, XNNPACK/ ONNX/\n",
      "</Document>\n",
      "\n",
      "---\n",
      "\n",
      "<Document href=\"https://github.com/kiena-dev/YOLOv5-tensorflow-lite-Raspberry-Pi\"/>\n",
      "Missing: 25 75% candidates recipes (MobileNetV2 SSD‑ EfficientDet‑ NAS‑ nano), QAT pruning+ distillation, XNNPACK/ ONNX/ TVM\n",
      "</Document>\n",
      "\n",
      "---\n",
      "\n",
      "<Document href=\"https://pyimagesearch.com/2020/01/27/yolo-and-tiny-yolo-object-detection-on-the-raspberry-pi-and-movidius-ncs/\"/>\n",
      "Missing: 25 75% candidates Lite, EfficientDet‑ NAS‑ INT8, pruning+ distillation, TFLite XNNPACK/ ONNX/ TVM\n",
      "</Document>\n",
      "\n",
      "---\n",
      "\n",
      "<Document href=\"https://www.youtube.com/watch?v=_WKS4E9SmkA\"/>\n",
      "Missing: 75% mAP: candidates optimization (MobileNetV2 SSD‑ Lite, EfficientDet‑ tiny/ NAS‑ INT8, pruning+ distillation, TFLite XNNPACK/ ONNX/ TVM\n",
      "</Document>\n",
      "\n",
      "---\n",
      "\n",
      "<Document href=\"https://www.researchgate.net/publication/392471787_Convolutional_neural_networks_for_real-time_object_detection_with_raspberry_Pi\"/>\n",
      "Missing: FPS candidates NAS‑ INT8, distillation, XNNPACK/ TVM\n",
      "</Document>\n"
     ]
    }
   ],
   "source": [
    "print(persona_graph.get_state(thread).values.get('context'))"
   ]
  }
 ],
 "metadata": {
  "kernelspec": {
   "display_name": "Python 3 (ipykernel)",
   "language": "python",
   "name": "python3"
  },
  "language_info": {
   "codemirror_mode": {
    "name": "ipython",
    "version": 3
   },
   "file_extension": ".py",
   "mimetype": "text/x-python",
   "name": "python",
   "nbconvert_exporter": "python",
   "pygments_lexer": "ipython3",
   "version": "3.11.2"
  }
 },
 "nbformat": 4,
 "nbformat_minor": 5
}
