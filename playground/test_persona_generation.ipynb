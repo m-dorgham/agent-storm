{
 "cells": [
  {
   "cell_type": "markdown",
   "id": "019cb190-471b-4591-b8c3-e768cb74ea69",
   "metadata": {},
   "source": [
    "## Playground for testing the generation of personas"
   ]
  },
  {
   "cell_type": "code",
   "execution_count": 1,
   "id": "ca750928-b80c-4211-9e71-72fc65b31bf4",
   "metadata": {},
   "outputs": [],
   "source": [
    "import os, getpass\n",
    "\n",
    "def _set_env(var: str):\n",
    "    if not os.environ.get(var):\n",
    "        os.environ[var] = getpass.getpass(f\"{var}: \")\n",
    "\n",
    "_set_env(\"OPENAI_API_KEY\")\n",
    "_set_env(\"LANGSMITH_API_KEY\")\n",
    "os.environ[\"LANGSMITH_TRACING\"] = \"true\"\n",
    "os.environ[\"LANGSMITH_PROJECT\"] = \"agent-storming\""
   ]
  },
  {
   "cell_type": "code",
   "execution_count": 1,
   "id": "4891db94-8878-4095-adda-933c313ae59f",
   "metadata": {},
   "outputs": [
    {
     "name": "stdout",
     "output_type": "stream",
     "text": [
      "Done reading file ../prompts/create_personas_instructions.txt\n"
     ]
    }
   ],
   "source": [
    "# Reading the entire contents of a text file\n",
    "def read_file_contents(filename):\n",
    "    try:\n",
    "        with open(filename, 'r', encoding='utf-8') as file:\n",
    "            content = file.read()\n",
    "            return content\n",
    "    except FileNotFoundError:\n",
    "        print(f\"Error: The file '{filename}' was not found.\")\n",
    "        return None\n",
    "    except PermissionError:\n",
    "        print(f\"Error: Permission denied to read the file '{filename}'.\")\n",
    "        return None\n",
    "    except Exception as e:\n",
    "        print(f\"An error occurred: {e}\")\n",
    "        return None\n",
    "\n",
    "\n",
    "personas_filename = \"../prompts/create_personas_instructions.txt\"\n",
    "\n",
    "create_personas_instructions = read_file_contents(personas_filename)\n",
    "if create_personas_instructions is not None:\n",
    "    print(\"Done reading file\", personas_filename)"
   ]
  },
  {
   "cell_type": "code",
   "execution_count": 3,
   "id": "264561b4-9487-44d5-85c3-63be10aa7fcf",
   "metadata": {},
   "outputs": [],
   "source": [
    "from langchain_openai import ChatOpenAI\n",
    "llm = ChatOpenAI(model=\"gpt-5-mini\", temperature=0)"
   ]
  },
  {
   "cell_type": "markdown",
   "id": "643c50df-f995-43fe-bbee-a8f70c6fd2dd",
   "metadata": {},
   "source": [
    "## Building the graph"
   ]
  },
  {
   "cell_type": "code",
   "execution_count": 30,
   "id": "4b238a05-6f33-432c-88ae-96837a3287d6",
   "metadata": {},
   "outputs": [
    {
     "data": {
      "image/png": "[encoded data removed]",
      "text/plain": [
       "<IPython.core.display.Image object>"
      ]
     },
     "metadata": {},
     "output_type": "display_data"
    }
   ],
   "source": [
    "from typing import List\n",
    "from typing_extensions import TypedDict\n",
    "from pydantic import BaseModel, Field\n",
    "from IPython.display import Image, display\n",
    "from langgraph.graph import START, END, StateGraph\n",
    "from langgraph.checkpoint.memory import MemorySaver\n",
    "from langchain_core.messages import AIMessage, HumanMessage, SystemMessage\n",
    "\n",
    "\n",
    "class Persona(BaseModel):\n",
    "    name: str = Field(\n",
    "        description=\"Name of the persona.\"\n",
    "    )\n",
    "    role: str = Field(\n",
    "        description=\"Role of the persona in the context of the topic.\",\n",
    "    )\n",
    "    description: str = Field(\n",
    "        description=\"Description of the persona focus, concerns, and expertise.\",\n",
    "    )\n",
    "    @property\n",
    "    def persona(self) -> str:\n",
    "        return f\"Name: {self.name}\\nRole: {self.role}\\nDescription: {self.description}\\n\"\n",
    "\n",
    "class Perspectives(BaseModel):\n",
    "    personas: List[Persona] = Field(\n",
    "        description=\"Comprehensive list of personas with their names, roles and descriptions.\",\n",
    "    )\n",
    "\n",
    "class GeneratePersonasState(TypedDict):\n",
    "    topic: str # Topic of discussion\n",
    "    max_personas: int # Number of personas\n",
    "    human_boss_feedback: str # Human feedback\n",
    "    personas: List[Persona] # experienced personas\n",
    "\n",
    "\n",
    "\n",
    "def create_personas(state: GeneratePersonasState):\n",
    "    \n",
    "    \"\"\" Create personas \"\"\"\n",
    "    \n",
    "    topic=state['topic']\n",
    "    max_personas=state['max_personas']\n",
    "    human_boss_feedback=state.get('human_boss_feedback', '')\n",
    "\n",
    "    # Enforce structured output\n",
    "    structured_llm = llm.with_structured_output(Perspectives)\n",
    "\n",
    "    # System message\n",
    "    system_message = create_personas_instructions.format(topic=topic,\n",
    "                                                         human_boss_feedback=human_boss_feedback, \n",
    "                                                         max_personas=max_personas)\n",
    "\n",
    "    # Generate question \n",
    "    personas = structured_llm.invoke([SystemMessage(content=system_message)]+[HumanMessage(content=\"Generate the group of experts.\")])\n",
    "    \n",
    "    # Write the list of analysis to state\n",
    "    return {\"personas\": personas.personas}\n",
    "\n",
    "def human_feedback(state: GeneratePersonasState):\n",
    "    \"\"\" No-op node that should be interrupted on \"\"\"\n",
    "    pass\n",
    "\n",
    "def should_continue(state: GeneratePersonasState):\n",
    "    \"\"\" Return the next node to execute \"\"\"\n",
    "\n",
    "    # Check if human feedback\n",
    "    human_boss_feedback=state.get('human_boss_feedback', None)\n",
    "    if human_boss_feedback:\n",
    "        return \"create_personas\"\n",
    "    \n",
    "    # Otherwise end\n",
    "    return END\n",
    "\n",
    "# Add nodes and edges \n",
    "factory_builder = StateGraph(GeneratePersonasState)\n",
    "factory_builder.add_node(\"create_personas\", create_personas)\n",
    "factory_builder.add_node(\"human_feedback\", human_feedback)\n",
    "factory_builder.add_edge(START, \"create_personas\")\n",
    "factory_builder.add_edge(\"create_personas\", \"human_feedback\")\n",
    "factory_builder.add_conditional_edges(\"human_feedback\", should_continue, [\"create_personas\", END])\n",
    "\n",
    "# Compile\n",
    "memory = MemorySaver()\n",
    "personas_factory_graph = factory_builder.compile(interrupt_before=['human_feedback'], checkpointer=memory)\n",
    "\n",
    "# View\n",
    "display(Image(personas_factory_graph.get_graph(xray=1).draw_mermaid_png()))"
   ]
  },
  {
   "cell_type": "markdown",
   "id": "6f9a782b-ba46-484e-a057-e13634c241d4",
   "metadata": {},
   "source": [
    "### Inserting the topic"
   ]
  },
  {
   "cell_type": "code",
   "execution_count": 18,
   "id": "2da1607c-869c-4257-9ebe-77af2c459aaf",
   "metadata": {},
   "outputs": [],
   "source": [
    "def insert_topic_in_graph(topic, max_personas, thread):\n",
    "    # Run the graph until the first interruption\n",
    "    for event in personas_factory_graph.stream({\"topic\":topic,\"max_personas\":max_personas,}, thread, stream_mode=\"values\"):\n",
    "        personas = event.get('personas', '')\n",
    "        if personas:\n",
    "            for persona in personas:\n",
    "                print(f\"Name: {persona.name}\")\n",
    "                print(f\"Role: {persona.role}\")\n",
    "                print(f\"Description: {persona.description}\")\n",
    "                print(\"-\" * 50)  "
   ]
  },
  {
   "cell_type": "markdown",
   "id": "c833f2fb-59b9-4554-8b9f-60da5d636e6d",
   "metadata": {},
   "source": [
    "### Getting human feedback"
   ]
  },
  {
   "cell_type": "code",
   "execution_count": 51,
   "id": "2309eebe-3e51-41d1-84b8-236a27009fd1",
   "metadata": {},
   "outputs": [],
   "source": [
    "def get_human_feedback(thread):\n",
    "\n",
    "    boss_feedback = input(\"Give your feedback, boss (Enter for ending feedback):\").strip()\n",
    "    if boss_feedback != \"\":\n",
    "        personas = personas_factory_graph.get_state(thread).values.get('personas')\n",
    "        personas_str = '\\n'.join([persona.persona for persona in personas])\n",
    "        boss_feedback = boss_feedback + \"\\n\\n\" + personas_str\n",
    "        \n",
    "        personas_factory_graph.update_state(thread, {\"human_boss_feedback\": boss_feedback}, as_node=\"human_feedback\")\n",
    "        \n",
    "        # Continue the graph execution\n",
    "        for event in personas_factory_graph.stream(None, thread, stream_mode=\"updates\"):\n",
    "            # Review\n",
    "            personas = event.get('personas', '')\n",
    "            if personas:\n",
    "                for persona in personas:\n",
    "                    print(f\"Name: {persona.name}\")\n",
    "                    print(f\"Role: {persona.role}\")\n",
    "                    print(f\"Description: {persona.description}\")\n",
    "                    print(\"-\" * 50) \n",
    "    print(\"-\" * 50) "
   ]
  },
  {
   "cell_type": "markdown",
   "id": "03f9eb46-a3b6-4e3a-a557-fce6ffe694f3",
   "metadata": {},
   "source": [
    "### Get final personas"
   ]
  },
  {
   "cell_type": "code",
   "execution_count": 47,
   "id": "65c7264b-e630-4de0-86fd-02bcd5dbe236",
   "metadata": {},
   "outputs": [],
   "source": [
    "def continue_execution(thread):\n",
    "    # Continue the graph execution to end\n",
    "    personas_factory_graph.update_state(thread, {\"human_boss_feedback\": None}, as_node=\"human_feedback\")\n",
    "    \n",
    "    personas_factory_graph.stream(None, thread, stream_mode=\"updates\")\n",
    "    \n",
    "    final_state = personas_factory_graph.get_state(thread)\n",
    "    personas = final_state.values.get('personas')\n",
    "    print(\"Final state of Personas:\")\n",
    "    for persona in personas:\n",
    "        print(f\"Name: {persona.name}\")\n",
    "        print(f\"Role: {persona.role}\")\n",
    "        print(f\"Description: {persona.description}\")\n",
    "        print(\"-\" * 50) "
   ]
  },
  {
   "cell_type": "markdown",
   "id": "6d9b3014-52bb-4504-b03f-c5a8cd527996",
   "metadata": {},
   "source": [
    "## Testing the graph"
   ]
  },
  {
   "cell_type": "code",
   "execution_count": 52,
   "id": "2a7be6ed-657f-48b2-b5ad-cb24f348d57a",
   "metadata": {},
   "outputs": [
    {
     "name": "stdout",
     "output_type": "stream",
     "text": [
      "Name: Maya Rao\n",
      "Role: Edge ML Architect\n",
      "Description: Focuses on selecting and designing neural architectures and compression strategies that meet edge constraints. Expertise in efficient model families (MobileNet, EfficientNet-lite, YOLO-tiny), Neural Architecture Search, quantization-aware training, pruning, knowledge distillation, and mixed-precision techniques. Primary concerns are accuracy vs. latency/memory trade-offs, maintaining robustness after compression, and integration with edge runtimes (TensorFlow Lite, ONNX Runtime, TVM). She evaluates performance using realistic benchmarks (FPS, p50/p95 latency, peak memory, energy per inference) and guides model-to-runtime translation.\n",
      "--------------------------------------------------\n",
      "Name: Luca Bianchi\n",
      "Role: Embedded Systems & Hardware Integration Engineer\n",
      "Description: Responsible for selecting edge hardware and integrating the full perception pipeline into the device. Deep experience with SoCs (ARM Cortex, NPUs, GPUs), accelerators (Coral Edge TPU, Intel Movidius), camera ISP pipelines, sensor synchronization, real-time operating systems, cross-compilation and bootstrapping. Concerned with power/thermal budgets, I/O bandwidth, frame preprocessing costs, scheduling, and reliable deployment (containers vs. native). He profiles end-to-end system performance, implements hardware-aware optimizations, and handles over-the-air updates and runtime monitoring.\n",
      "--------------------------------------------------\n",
      "Name: Dr. Aisha Rahman\n",
      "Role: Data Scientist & MLOps Engineer\n",
      "Description: Leads data collection, labeling, and the CI/CD for models at the edge to ensure long-term reliability and domain robustness. Skilled in dataset design, augmentation strategies, synthetic data generation, active learning, domain adaptation, validation metrics (mAP, precision/recall by class and environmental condition), and test harnesses. She builds pipelines for continuous evaluation, drift detection, and safe model rollout (canaries, A/B testing, rollback), and considers privacy-preserving approaches (on-device training, federated learning) and secure model delivery.\n",
      "--------------------------------------------------\n"
     ]
    },
    {
     "name": "stdin",
     "output_type": "stream",
     "text": [
      "Give your feedback, boss (Enter for ending feedback): replace the data scientist with a sales engineer.\n"
     ]
    },
    {
     "name": "stdout",
     "output_type": "stream",
     "text": [
      "--------------------------------------------------\n",
      "Final state of Personas:\n",
      "Name: Maya Rao\n",
      "Role: Edge ML Architect\n",
      "Description: Theme: Model architecture, compression, and accuracy-vs-latency trade-offs. Focuses on selecting and designing neural architectures and compression strategies that meet edge constraints. Expertise in efficient model families (MobileNet, EfficientNet-lite, YOLO-tiny), Neural Architecture Search, quantization-aware training, pruning, knowledge distillation, and mixed-precision techniques. Primary concerns are accuracy vs. latency/memory trade-offs, maintaining robustness after compression, and integration with edge runtimes (TensorFlow Lite, ONNX Runtime, TVM). Evaluates performance using realistic benchmarks (FPS, p50/p95 latency, peak memory, energy per inference) and guides model-to-runtime translation.\n",
      "--------------------------------------------------\n",
      "Name: Luca Bianchi\n",
      "Role: Embedded Systems & Hardware Integration Engineer\n",
      "Description: Theme: Hardware selection, integration, and end-to-end system performance. Responsible for selecting edge hardware and integrating the full perception pipeline into the device. Deep experience with SoCs (ARM Cortex, NPUs, GPUs), accelerators (Coral Edge TPU, Intel Movidius), camera ISP pipelines, sensor synchronization, and real-time operating systems. Concerned with power/thermal budgets, I/O bandwidth, frame preprocessing costs, scheduling, and reliable deployment (containers vs. native). Profiles end-to-end system performance, implements hardware-aware optimizations, and handles over-the-air updates and runtime monitoring.\n",
      "--------------------------------------------------\n",
      "Name: Aisha Rahman\n",
      "Role: Sales Engineer (Edge Solutions)\n",
      "Description: Theme: Customer requirements, deployment constraints, and product fit. Translates customer needs into technical requirements and deployment constraints for edge object-recognition solutions. Skilled at scoping SLAs (latency, throughput, accuracy), TCO and ROI calculations, pricing and BOM implications, compliance and certification constraints, and presenting proof-of-concept trade-offs. Works with customers and internal teams to prioritize features, define minimal viable deployments (canaries, pilots), and shape rollout and support plans that align technical choices (models, hardware, maintenance) with business objectives.\n",
      "--------------------------------------------------\n"
     ]
    }
   ],
   "source": [
    "max_personas = 3 \n",
    "topic = \"Discussing the architecture and system design for building an object recognition system to be deployed on an edge device\"\n",
    "thread = {\"configurable\": {\"thread_id\": \"26\"}}\n",
    "\n",
    "insert_topic_in_graph(topic, max_personas, thread)\n",
    "\n",
    "get_human_feedback(thread)\n",
    "\n",
    "continue_execution(thread)"
   ]
  },
  {
   "cell_type": "code",
   "execution_count": 54,
   "id": "9e3dd147-cd63-4123-80c5-abeadbfd2e55",
   "metadata": {},
   "outputs": [
    {
     "name": "stdout",
     "output_type": "stream",
     "text": [
      "Name: Ravi Patel\n",
      "Role: Infrastructure Performance Engineer\n",
      "Description: Focuses on raw training and inference performance: accelerator choices (NVIDIA A100/H100, Google TPUs, AWS Trainium/Inferentia), multi-node scaling, interconnect (RDMA/EFA), network topology, and storage I/O throughput. Measures and optimizes end-to-end throughput and latency for distributed training (Horovod, PyTorch DDP, TensorFlow), tuning mixed precision, batch sizes and checkpointing to minimize wall-clock time. Concerns include maximizing GPU/TPU utilization, reducing communication overhead, avoiding storage or network bottlenecks during large-scale data ingest, and producing reproducible benchmark data to compare AWS/Azure/GCP offerings.\n",
      "--------------------------------------------------\n",
      "Name: Elena García\n",
      "Role: Data Engineering & Storage Architect\n",
      "Description: Designs scalable, cost-effective data pipelines and storage for very large training datasets: ingestion (streaming and batch), partitioning, compression, cataloging, and locality of data relative to compute. Evaluates object storage (S3, GCS, ADLS), data warehouses (BigQuery) and pipeline services (Dataflow, Kinesis, Event Hubs, Glue) to ensure sustained throughput for training and minimal egress. Primary concerns are data availability, throughput-to-cost tradeoffs, schema/versioning (feature stores), security/compliance for sensitive datasets, and minimizing data transfer latency and egress charges when choosing between AWS/Azure/GCP.\n",
      "--------------------------------------------------\n",
      "Name: Michael Chen\n",
      "Role: MLOps & Platform Engineering Lead\n",
      "Description: Owns the model lifecycle and platform-level concerns: managed ML services (SageMaker, Azure ML, Vertex AI), CI/CD for models, feature stores, model monitoring, rollback and canary strategies, reproducibility and governance. Balances developer productivity (managed services, integrated tooling, managed notebooks) against risk of vendor lock-in, compliance requirements, and operational cost. Focus areas include deployment patterns (batch vs online), autoscaling, monitoring/observability for drift and performance, infrastructure-as-code, and seamless integration with enterprise identity, security, and audit controls across cloud providers.\n",
      "--------------------------------------------------\n"
     ]
    },
    {
     "name": "stdin",
     "output_type": "stream",
     "text": [
      "Give your feedback, boss (Enter for ending feedback): \n"
     ]
    },
    {
     "name": "stdout",
     "output_type": "stream",
     "text": [
      "--------------------------------------------------\n",
      "Final state of Personas:\n",
      "Name: Ravi Patel\n",
      "Role: Infrastructure Performance Engineer\n",
      "Description: Focuses on raw training and inference performance: accelerator choices (NVIDIA A100/H100, Google TPUs, AWS Trainium/Inferentia), multi-node scaling, interconnect (RDMA/EFA), network topology, and storage I/O throughput. Measures and optimizes end-to-end throughput and latency for distributed training (Horovod, PyTorch DDP, TensorFlow), tuning mixed precision, batch sizes and checkpointing to minimize wall-clock time. Concerns include maximizing GPU/TPU utilization, reducing communication overhead, avoiding storage or network bottlenecks during large-scale data ingest, and producing reproducible benchmark data to compare AWS/Azure/GCP offerings.\n",
      "--------------------------------------------------\n",
      "Name: Elena García\n",
      "Role: Data Engineering & Storage Architect\n",
      "Description: Designs scalable, cost-effective data pipelines and storage for very large training datasets: ingestion (streaming and batch), partitioning, compression, cataloging, and locality of data relative to compute. Evaluates object storage (S3, GCS, ADLS), data warehouses (BigQuery) and pipeline services (Dataflow, Kinesis, Event Hubs, Glue) to ensure sustained throughput for training and minimal egress. Primary concerns are data availability, throughput-to-cost tradeoffs, schema/versioning (feature stores), security/compliance for sensitive datasets, and minimizing data transfer latency and egress charges when choosing between AWS/Azure/GCP.\n",
      "--------------------------------------------------\n",
      "Name: Michael Chen\n",
      "Role: MLOps & Platform Engineering Lead\n",
      "Description: Owns the model lifecycle and platform-level concerns: managed ML services (SageMaker, Azure ML, Vertex AI), CI/CD for models, feature stores, model monitoring, rollback and canary strategies, reproducibility and governance. Balances developer productivity (managed services, integrated tooling, managed notebooks) against risk of vendor lock-in, compliance requirements, and operational cost. Focus areas include deployment patterns (batch vs online), autoscaling, monitoring/observability for drift and performance, infrastructure-as-code, and seamless integration with enterprise identity, security, and audit controls across cloud providers.\n",
      "--------------------------------------------------\n"
     ]
    }
   ],
   "source": [
    "max_personas = 3 \n",
    "topic = \"Choosing which cloud platform between AWS, Azure, and GCP to deploy our deep learning models that work with large-scale data input.\"\n",
    "thread = {\"configurable\": {\"thread_id\": \"24\"}}\n",
    "\n",
    "insert_topic_in_graph(topic, max_personas, thread)\n",
    "\n",
    "get_human_feedback(thread)\n",
    "\n",
    "continue_execution(thread)"
   ]
  },
  {
   "cell_type": "code",
   "execution_count": 57,
   "id": "eb59164c-dbac-4bc0-885c-72d1e390ee0b",
   "metadata": {},
   "outputs": [
    {
     "name": "stdout",
     "output_type": "stream",
     "text": [
      "Name: Dr. Layla Hassan\n",
      "Role: Egyptologist and Archaeological Historian\n",
      "Description: Focuses on the historical and textual evidence for pyramid construction, including inscriptions, tomb reliefs and administrative records. Emphasizes the consensus that the pyramids were built by ancient Egyptians under state organization, interprets funerary purpose and religious context, and integrates recent finds such as the Merer papyri and the Giza workers' town into that narrative.\n",
      "--------------------------------------------------\n",
      "Name: Prof. Marco Bellini\n",
      "Role: Architectural Engineer (Ancient Construction Specialist)\n",
      "Description: Analyzes structural design, construction methods and engineering logistics: ramp hypotheses (straight, zigzag, spiral), levering systems, stone dressing and placement accuracy. Draws on experimental archaeology, engineering models and material-science evidence to evaluate how heavy blocks could be moved, lifted and set with Bronze Age technology.\n",
      "--------------------------------------------------\n",
      "Name: Dr. Amina Soliman\n",
      "Role: Bioarchaeologist and Labor Organization Researcher\n",
      "Description: Studies human remains, settlement archaeology and provisioning evidence to reconstruct who the workforce were, their health, feeding, living conditions and seasonal organization. Focuses on the Giza workers' village, burial practices of workers, osteological markers of activity, and the social mechanisms (corvée, paid labor, skilled crews) that mobilized labor.\n",
      "--------------------------------------------------\n",
      "Name: Dr. Jonas Richter\n",
      "Role: Logistics and Maritime Archaeologist\n",
      "Description: Examines supply chains, quarrying, transport and riverine infrastructure: sources of limestone and granite, use of boats and canals, sledges and wet-sand techniques, and coordination of materials and food supply across the state apparatus. Integrates archaeological finds (e.g., papyrus accounts, harbor remains, boat pits) to model how the scale of the project was sustained.\n",
      "--------------------------------------------------\n",
      "Name: Dr. Eleanor Price\n",
      "Role: Science Communicator and Critical-Analysis Specialist (Fringe Theories)\n",
      "Description: Evaluates alternative and pseudoscientific claims (ancient aliens, lost advanced civilizations, radically different builders) against empirical evidence and methodological standards. Explains why fringe theories arise, how to critically assess them, and presents the strengths and limits of current archaeological evidence without dismissing legitimate open questions.\n",
      "--------------------------------------------------\n"
     ]
    },
    {
     "name": "stdin",
     "output_type": "stream",
     "text": [
      "Give your feedback, boss (Enter for ending feedback): \n"
     ]
    },
    {
     "name": "stdout",
     "output_type": "stream",
     "text": [
      "--------------------------------------------------\n",
      "Final state of Personas:\n",
      "Name: Dr. Layla Hassan\n",
      "Role: Egyptologist and Archaeological Historian\n",
      "Description: Focuses on the historical and textual evidence for pyramid construction, including inscriptions, tomb reliefs and administrative records. Emphasizes the consensus that the pyramids were built by ancient Egyptians under state organization, interprets funerary purpose and religious context, and integrates recent finds such as the Merer papyri and the Giza workers' town into that narrative.\n",
      "--------------------------------------------------\n",
      "Name: Prof. Marco Bellini\n",
      "Role: Architectural Engineer (Ancient Construction Specialist)\n",
      "Description: Analyzes structural design, construction methods and engineering logistics: ramp hypotheses (straight, zigzag, spiral), levering systems, stone dressing and placement accuracy. Draws on experimental archaeology, engineering models and material-science evidence to evaluate how heavy blocks could be moved, lifted and set with Bronze Age technology.\n",
      "--------------------------------------------------\n",
      "Name: Dr. Amina Soliman\n",
      "Role: Bioarchaeologist and Labor Organization Researcher\n",
      "Description: Studies human remains, settlement archaeology and provisioning evidence to reconstruct who the workforce were, their health, feeding, living conditions and seasonal organization. Focuses on the Giza workers' village, burial practices of workers, osteological markers of activity, and the social mechanisms (corvée, paid labor, skilled crews) that mobilized labor.\n",
      "--------------------------------------------------\n",
      "Name: Dr. Jonas Richter\n",
      "Role: Logistics and Maritime Archaeologist\n",
      "Description: Examines supply chains, quarrying, transport and riverine infrastructure: sources of limestone and granite, use of boats and canals, sledges and wet-sand techniques, and coordination of materials and food supply across the state apparatus. Integrates archaeological finds (e.g., papyrus accounts, harbor remains, boat pits) to model how the scale of the project was sustained.\n",
      "--------------------------------------------------\n",
      "Name: Dr. Eleanor Price\n",
      "Role: Science Communicator and Critical-Analysis Specialist (Fringe Theories)\n",
      "Description: Evaluates alternative and pseudoscientific claims (ancient aliens, lost advanced civilizations, radically different builders) against empirical evidence and methodological standards. Explains why fringe theories arise, how to critically assess them, and presents the strengths and limits of current archaeological evidence without dismissing legitimate open questions.\n",
      "--------------------------------------------------\n"
     ]
    }
   ],
   "source": [
    "max_personas = 5 \n",
    "topic = \"Who did really build the pyramids and how were they built?\"\n",
    "thread = {\"configurable\": {\"thread_id\": \"32\"}}\n",
    "\n",
    "insert_topic_in_graph(topic, max_personas, thread)\n",
    "\n",
    "get_human_feedback(thread)\n",
    "\n",
    "continue_execution(thread)"
   ]
  }
 ],
 "metadata": {
  "kernelspec": {
   "display_name": "Python 3 (ipykernel)",
   "language": "python",
   "name": "python3"
  },
  "language_info": {
   "codemirror_mode": {
    "name": "ipython",
    "version": 3
   },
   "file_extension": ".py",
   "mimetype": "text/x-python",
   "name": "python",
   "nbconvert_exporter": "python",
   "pygments_lexer": "ipython3",
   "version": "3.11.2"
  }
 },
 "nbformat": 4,
 "nbformat_minor": 5
}
