{
 "cells": [
  {
   "cell_type": "markdown",
   "id": "d12db820-0230-48a1-bee6-2b231a6941d5",
   "metadata": {},
   "source": [
    "## Testing the full graph"
   ]
  },
  {
   "cell_type": "markdown",
   "id": "f3b6bb49-1d4d-460b-8607-5acf38f7b2ca",
   "metadata": {},
   "source": [
    "## Setup"
   ]
  },
  {
   "cell_type": "code",
   "execution_count": 1,
   "id": "53d96feb-34d7-49b5-9827-f13bb6d9294f",
   "metadata": {},
   "outputs": [],
   "source": [
    "%%capture --no-stderr\n",
    "%pip install --quiet -U langgraph langchain_openai langchain_community langchain_core langchain-tavily pyyaml"
   ]
  },
  {
   "cell_type": "code",
   "execution_count": 1,
   "id": "2dcb695a-563c-498d-a648-60939a663363",
   "metadata": {},
   "outputs": [],
   "source": [
    "import os, getpass\n",
    "\n",
    "def _set_env(var: str):\n",
    "    if not os.environ.get(var):\n",
    "        os.environ[var] = getpass.getpass(f\"{var}: \")\n",
    "\n",
    "_set_env(\"OPENAI_API_KEY\")\n",
    "_set_env(\"TAVILY_API_KEY\")\n",
    "_set_env(\"LANGSMITH_API_KEY\")\n",
    "os.environ[\"LANGSMITH_TRACING\"] = \"true\"\n",
    "os.environ[\"LANGSMITH_PROJECT\"] = \"agent-storm\""
   ]
  },
  {
   "cell_type": "code",
   "execution_count": 2,
   "id": "8502a0a0-61e0-4750-bcd6-9bb915c98a06",
   "metadata": {},
   "outputs": [],
   "source": [
    "# Reading the entire contents of a text file\n",
    "def read_file_contents(filename):\n",
    "    try:\n",
    "        with open(filename, 'r', encoding='utf-8') as file:\n",
    "            content = file.read()\n",
    "            return content\n",
    "    except FileNotFoundError:\n",
    "        print(f\"Error: The file '{filename}' was not found.\")\n",
    "        return None\n",
    "    except PermissionError:\n",
    "        print(f\"Error: Permission denied to read the file '{filename}'.\")\n",
    "        return None\n",
    "    except Exception as e:\n",
    "        print(f\"An error occurred: {e}\")\n",
    "        return None"
   ]
  },
  {
   "cell_type": "code",
   "execution_count": 3,
   "id": "66146c6e-22ea-4c82-a75a-a294c3c48916",
   "metadata": {},
   "outputs": [],
   "source": [
    "from langchain_openai import ChatOpenAI\n",
    "llm = ChatOpenAI(model=\"gpt-5-mini\", temperature=0)"
   ]
  },
  {
   "cell_type": "markdown",
   "id": "bca66cb8-b918-4f83-9a7b-fe96482a8709",
   "metadata": {},
   "source": [
    "## Generate Personas"
   ]
  },
  {
   "cell_type": "code",
   "execution_count": 4,
   "id": "edfe03cb-618a-42cd-8565-e0fff91ece23",
   "metadata": {},
   "outputs": [
    {
     "name": "stdout",
     "output_type": "stream",
     "text": [
      "Done reading file ../prompts/create_personas_instructions.txt\n"
     ]
    }
   ],
   "source": [
    "personas_filename = \"../prompts/create_personas_instructions.txt\"\n",
    "\n",
    "create_personas_instructions = read_file_contents(personas_filename)\n",
    "if create_personas_instructions is not None:\n",
    "    print(\"Done reading file\", personas_filename)"
   ]
  },
  {
   "cell_type": "code",
   "execution_count": 5,
   "id": "4081209e-0a75-45ca-93e5-385e422dc29e",
   "metadata": {},
   "outputs": [],
   "source": [
    "from typing import List\n",
    "from typing_extensions import TypedDict\n",
    "from pydantic import BaseModel, Field\n",
    "import uuid\n",
    "from IPython.display import Image, display\n",
    "from langgraph.graph import START, END, StateGraph\n",
    "from langgraph.checkpoint.memory import MemorySaver\n",
    "from langchain_core.messages import AIMessage, HumanMessage, SystemMessage\n",
    "\n",
    "class Persona(BaseModel):\n",
    "    name: str = Field(\n",
    "        description=\"Name of the persona.\"\n",
    "    )\n",
    "    role: str = Field(\n",
    "        description=\"Role of the persona in the context of the topic.\",\n",
    "    )\n",
    "    description: str = Field(\n",
    "        description=\"Description of the persona focus, concerns, and expertise.\",\n",
    "    )\n",
    "    @property\n",
    "    def to_string(self) -> str:\n",
    "        return f\"Name: {self.name}\\nRole: {self.role}\\nDescription: {self.description}\\n\"\n",
    "\n",
    "class Perspectives(BaseModel):\n",
    "    personas: List[Persona] = Field(\n",
    "        description=\"Comprehensive list of personas with their names, roles and descriptions.\",\n",
    "    )\n",
    "\n",
    "class GeneratePersonasState(TypedDict):\n",
    "    topic: str # Topic of discussion\n",
    "    max_personas: int # Number of personas\n",
    "    human_boss_feedback: str # Human feedback\n",
    "    personas: List[Persona] # experienced personas\n",
    "\n",
    "\n",
    "def create_personas(state: GeneratePersonasState):\n",
    "    \n",
    "    \"\"\" Create personas \"\"\"\n",
    "    \n",
    "    topic=state['topic']\n",
    "    max_personas=state['max_personas']\n",
    "    human_boss_feedback=state.get('human_boss_feedback', '')\n",
    "\n",
    "    # Enforce structured output\n",
    "    structured_llm = llm.with_structured_output(Perspectives)\n",
    "\n",
    "    # System message\n",
    "    system_message = create_personas_instructions.format(topic=topic,\n",
    "                                                         human_boss_feedback=human_boss_feedback, \n",
    "                                                         max_personas=max_personas)\n",
    "\n",
    "    # Generate question \n",
    "    personas = structured_llm.invoke([SystemMessage(content=system_message)]+[HumanMessage(content=\"Generate the group of experts.\")])\n",
    "    \n",
    "\n",
    "    return {\"personas\": personas.personas}\n",
    "\n",
    "\n",
    "def human_feedback(state: GeneratePersonasState):\n",
    "    \"\"\" No-op node that should be interrupted on \"\"\"\n",
    "    pass\n"
   ]
  },
  {
   "cell_type": "code",
   "execution_count": 6,
   "id": "9b226afb-8e9f-4cfa-bcb9-f6e3269f105d",
   "metadata": {},
   "outputs": [],
   "source": [
    "def insert_topic_in_graph(topic, max_personas, thread, graph):\n",
    "    # Run the graph until the first interruption\n",
    "    for event in graph.stream({\"topic\":topic,\"max_personas\":max_personas,}, thread, stream_mode=\"values\"):\n",
    "        personas = event.get('personas', '')\n",
    "        if personas:\n",
    "            for persona in personas:\n",
    "                print(f\"Name: {persona.name}\")\n",
    "                print(f\"Role: {persona.role}\")\n",
    "                print(f\"Description: {persona.description}\")\n",
    "                print(\"-\" * 50)  \n",
    "\n",
    "\n",
    "def get_human_feedback_to_generate_personas(thread, graph):\n",
    "\n",
    "    boss_feedback = input(\"Give your feedback, boss (Enter for ending feedback):\").strip()\n",
    "    if boss_feedback != \"\":\n",
    "        personas = graph.get_state(thread).values.get('personas')\n",
    "        personas_str = '\\n'.join([persona.to_string for persona in personas])\n",
    "        boss_feedback = boss_feedback + \"\\n\\n\" + personas_str\n",
    "        \n",
    "        graph.update_state(thread, {\"human_boss_feedback\": boss_feedback}, as_node=\"human_feedback\")\n",
    "        \n",
    "        # Continue the graph execution\n",
    "        for event in graph.stream(None, thread, stream_mode=\"updates\"):\n",
    "            # Review\n",
    "            personas = event.get('personas', '')\n",
    "            if personas:\n",
    "                for persona in personas:\n",
    "                    print(f\"Name: {persona.name}\")\n",
    "                    print(f\"Role: {persona.role}\")\n",
    "                    print(f\"Description: {persona.description}\")\n",
    "                    print(\"-\" * 50) \n",
    "    print(\"-\" * 50) \n",
    "\n",
    "\n",
    "def finish_personas_creation(thread, graph):\n",
    "    # Continue the graph execution to end\n",
    "    graph.update_state(thread, {\"human_boss_feedback\": None}, as_node=\"human_feedback\")\n",
    "    \n",
    "    graph.stream(None, thread, stream_mode=\"updates\")\n",
    "    \n",
    "    final_state = graph.get_state(thread)\n",
    "    personas = final_state.values.get('personas')\n",
    "    print(\"Final state of Personas:\")\n",
    "    for persona in personas:\n",
    "        print(f\"Name: {persona.name}\")\n",
    "        print(f\"Role: {persona.role}\")\n",
    "        print(f\"Description: {persona.description}\")\n",
    "        print(\"-\" * 50) "
   ]
  },
  {
   "cell_type": "markdown",
   "id": "7b2098d5-7d92-42fc-b0e5-280905300fc4",
   "metadata": {},
   "source": [
    "## Persona Agent"
   ]
  },
  {
   "cell_type": "code",
   "execution_count": 7,
   "id": "5d7461be-d2a3-40ce-9577-1b7da8f8a288",
   "metadata": {},
   "outputs": [
    {
     "name": "stdout",
     "output_type": "stream",
     "text": [
      "Done reading file ../prompts/web_search_instructions.txt\n",
      "Done reading file ../prompts/generate_opinion_instructions.txt\n"
     ]
    }
   ],
   "source": [
    "filename = \"../prompts/web_search_instructions.txt\"\n",
    "\n",
    "search_instructions = read_file_contents(filename)\n",
    "if search_instructions is not None:\n",
    "    print(\"Done reading file\", filename)\n",
    "\n",
    "filename = \"../prompts/generate_opinion_instructions.txt\"\n",
    "\n",
    "opinion_instructions = read_file_contents(filename)\n",
    "if opinion_instructions is not None:\n",
    "    print(\"Done reading file\", filename)"
   ]
  },
  {
   "cell_type": "code",
   "execution_count": 8,
   "id": "314ee4e3-2216-4e69-86d7-465ba368660f",
   "metadata": {},
   "outputs": [
    {
     "data": {
      "image/png": "[encoded data removed]",
      "text/plain": [
       "<IPython.core.display.Image object>"
      ]
     },
     "metadata": {},
     "output_type": "display_data"
    }
   ],
   "source": [
    "from langgraph.graph import MessagesState\n",
    "from typing import  Annotated\n",
    "import operator\n",
    "from langchain_tavily import TavilySearch\n",
    "\n",
    "\n",
    "tavily_search = TavilySearch(max_results=5, topic=\"general\", include_raw_content=False)\n",
    "\n",
    "\n",
    "class PersonaState(MessagesState):\n",
    "    context: str # Source docs\n",
    "    current_persona: Persona # Expert persona asking questions\n",
    "    topic: str # Topic of discussion\n",
    "\n",
    "\n",
    "class SearchQuery(BaseModel):\n",
    "    search_query: str = Field(None, description=\"Search query for retrieval.\", max_length=300)\n",
    "\n",
    "\n",
    "def search_web(state: PersonaState):\n",
    "    \n",
    "    \"\"\" Retrieve docs from web search \"\"\"\n",
    "\n",
    "    topic = state[\"topic\"]\n",
    "    persona = state[\"current_persona\"]\n",
    "    messages = state[\"messages\"]\n",
    "    \n",
    "    # Search query\n",
    "    structured_llm = llm.with_structured_output(SearchQuery)\n",
    "    system_message = search_instructions.format(topic=topic, persona=persona.to_string)\n",
    "    search_query = structured_llm.invoke([SystemMessage(content=system_message)]+messages)\n",
    "    \n",
    "    # Search\n",
    "    search_docs = tavily_search.invoke({\"query\": search_query.search_query})\n",
    "              \n",
    "     # Format\n",
    "    formatted_search_docs = \"\\n\\n---\\n\\n\".join(\n",
    "        [\n",
    "            f'<Document href=\"{doc[\"url\"]}\"/>\\n{doc[\"content\"]}\\n</Document>'\n",
    "            for doc in search_docs[\"results\"]\n",
    "        ]\n",
    "    )\n",
    "\n",
    "    return {\"context\": formatted_search_docs} \n",
    "\n",
    "\n",
    "def generate_opinion(state: PersonaState):\n",
    "    \n",
    "    \"\"\" Node to answer a question \"\"\"\n",
    "\n",
    "    # Get state\n",
    "    persona = state[\"current_persona\"]\n",
    "    messages = state[\"messages\"]\n",
    "    context = state[\"context\"]\n",
    "    topic = state[\"topic\"]\n",
    "\n",
    "    # Generate an opinion\n",
    "    system_message = opinion_instructions.format(topic=topic, persona=persona.to_string, context=context)\n",
    "    opinion = llm.invoke([SystemMessage(content=system_message)]+messages)\n",
    "    \n",
    "    # Append it to state\n",
    "    return {\"messages\": [opinion]}\n",
    "\n",
    "\n",
    "# Add nodes and edges \n",
    "persona_builder = StateGraph(PersonaState)\n",
    "persona_builder.add_node(\"search_web\", search_web)\n",
    "persona_builder.add_node(\"generate_opinion\", generate_opinion)\n",
    "\n",
    "persona_builder.add_edge(START, \"search_web\")\n",
    "persona_builder.add_edge(\"search_web\", \"generate_opinion\")\n",
    "persona_builder.add_edge(\"generate_opinion\", END)\n",
    "\n",
    "# Interview \n",
    "memory = MemorySaver()\n",
    "persona_graph = persona_builder.compile(checkpointer=memory).with_config(run_name=\"Expert Persona\")\n",
    "\n",
    "# View\n",
    "display(Image(persona_graph.get_graph().draw_mermaid_png()))\n"
   ]
  },
  {
   "cell_type": "markdown",
   "id": "a6416c9c-6d16-4852-9d5b-9717e8553cbd",
   "metadata": {},
   "source": [
    "## Full Graph"
   ]
  },
  {
   "cell_type": "code",
   "execution_count": 9,
   "id": "d387669a-b3ad-4c67-aa7d-a23534b40ba0",
   "metadata": {},
   "outputs": [
    {
     "name": "stdout",
     "output_type": "stream",
     "text": [
      "Done reading file ../prompts/coordinator_instructions.txt\n",
      "Done reading file ../prompts/summarize_meeting_instructions.txt\n",
      "Done reading file ../prompts/compress_chat_instructions.txt\n"
     ]
    }
   ],
   "source": [
    "filename = \"../prompts/coordinator_instructions.txt\"\n",
    "\n",
    "coordinator_instructions = read_file_contents(filename)\n",
    "if coordinator_instructions is not None:\n",
    "    print(\"Done reading file\", filename)\n",
    "\n",
    "filename = \"../prompts/summarize_meeting_instructions.txt\"\n",
    "\n",
    "summarize_meeting_instructions = read_file_contents(filename)\n",
    "if summarize_meeting_instructions is not None:\n",
    "    print(\"Done reading file\", filename)\n",
    "\n",
    "filename = \"../prompts/compress_chat_instructions.txt\"\n",
    "\n",
    "compress_chat_instructions = read_file_contents(filename)\n",
    "if compress_chat_instructions is not None:\n",
    "    print(\"Done reading file\", filename)"
   ]
  },
  {
   "cell_type": "code",
   "execution_count": 12,
   "id": "3cffbe55-9ae7-46a0-93d2-2398162ebe47",
   "metadata": {},
   "outputs": [
    {
     "data": {
      "image/png": "[encoded data removed]",
      "text/plain": [
       "<IPython.core.display.Image object>"
      ]
     },
     "metadata": {},
     "output_type": "display_data"
    }
   ],
   "source": [
    "from langgraph.types import interrupt\n",
    "from langgraph.types import Command\n",
    "from typing_extensions import Literal\n",
    "from langchain_core.messages import RemoveMessage\n",
    "from langgraph.graph.message import REMOVE_ALL_MESSAGES\n",
    "\n",
    "\n",
    "COMPRESSION_THRESHOLD = 6\n",
    "\n",
    "class BrainStormState(MessagesState):\n",
    "    topic: str\n",
    "    max_personas: int \n",
    "    personas: List[Persona]\n",
    "    current_persona: Persona \n",
    "    human_boss_feedback: str\n",
    "    summary: str\n",
    "    \n",
    "\n",
    "def coordinate(state: BrainStormState) -> Command[Literal[\"meeting_notes\", \"active_persona\"]]:\n",
    "    response = interrupt(\"Do you have any comment?\")\n",
    "    human_input = response[\"human_input\"]\n",
    "\n",
    "    if human_input == \"end\":\n",
    "        return Command(goto=\"meeting_notes\", update={\"messages\": state[\"messages\"], \"topic\": state[\"topic\"]})\n",
    "\n",
    "    else:    # decide next persona\n",
    "\n",
    "        topic = state[\"topic\"]\n",
    "        personas = state[\"personas\"]\n",
    "        if human_input.strip() == \"\":\n",
    "            messages = state[\"messages\"]\n",
    "        else:\n",
    "            messages = state[\"messages\"] + [HumanMessage(content=human_input)]\n",
    "    \n",
    "        personas_str = '\\n'.join([persona.to_string for persona in personas])\n",
    "        \n",
    "        system_message = coordinator_instructions.format(topic=topic, personas=personas_str)\n",
    "    \n",
    "        structured_llm = llm.with_structured_output(Persona)\n",
    "         \n",
    "        persona = structured_llm.invoke([SystemMessage(content=system_message)]+messages)\n",
    "\n",
    "        return Command(goto=\"active_persona\", \n",
    "                       update={\"current_persona\": persona, \"messages\": messages, \"topic\": topic})\n",
    "\n",
    "\n",
    "def compress_chat_history(state: BrainStormState):\n",
    "    messages = state[\"messages\"]\n",
    "    \n",
    "    if len(messages) <= COMPRESSION_THRESHOLD:\n",
    "        return state\n",
    "\n",
    "    messages_to_compress = messages[:-2]\n",
    "\n",
    "    conversation_text = \"\\n\\n\".join([msg.content for msg in messages_to_compress])\n",
    "    compression_prompt = compress_chat_instructions.format(conversation_text=conversation_text)\n",
    "    \n",
    "    \n",
    "    summary_response = llm.invoke([HumanMessage(content=compression_prompt)])\n",
    "\n",
    "    compressed_messages = [summary_response]\n",
    "    for message in messages[-2:]:\n",
    "        if isinstance(message, HumanMessage):\n",
    "            compressed_messages.append(HumanMessage(content=message.content))\n",
    "        else:\n",
    "            compressed_messages.append(AIMessage(content=message.content))\n",
    "\n",
    "    messages += compressed_messages\n",
    "    \n",
    "    return {\"messages\": [RemoveMessage(id=m.id) for m in messages[:-3]]}\n",
    "\n",
    "    \n",
    "def summarize_meeting(state: BrainStormState):\n",
    "    topic = state[\"topic\"]\n",
    "    messages = state[\"messages\"]\n",
    "\n",
    "    summarization_prompt = summarize_meeting_instructions.format(topic=topic)\n",
    "\n",
    "    summary = llm.invoke([HumanMessage(content=summarization_prompt)]+messages)\n",
    "\n",
    "    return {\"summary\": summary}\n",
    "\n",
    "\n",
    "def should_modify_personas(state: BrainStormState):\n",
    "    # Check if human feedback\n",
    "    human_boss_feedback=state.get('human_boss_feedback', None)\n",
    "    if human_boss_feedback:\n",
    "        return \"create_personas\"\n",
    "    \n",
    "    return \"coordinator\"\n",
    "\n",
    "\n",
    "\n",
    "# create graph nodes and edges\n",
    "builder = StateGraph(BrainStormState)\n",
    "builder.add_node(\"create_personas\", create_personas)\n",
    "builder.add_node(\"human_feedback\", human_feedback)\n",
    "builder.add_node(\"coordinator\", coordinate)\n",
    "builder.add_node(\"active_persona\", persona_graph)\n",
    "builder.add_node(\"compress_chat_history\", compress_chat_history)\n",
    "builder.add_node(\"meeting_notes\", summarize_meeting)\n",
    "\n",
    "builder.add_edge(START, \"create_personas\")\n",
    "builder.add_edge(\"create_personas\", \"human_feedback\")\n",
    "builder.add_conditional_edges(\"human_feedback\", should_modify_personas, [\"create_personas\", \"coordinator\"])\n",
    "builder.add_edge(\"active_persona\", \"compress_chat_history\")\n",
    "builder.add_edge(\"compress_chat_history\", \"coordinator\")\n",
    "builder.add_edge(\"meeting_notes\", END)\n",
    "\n",
    "memory = MemorySaver()\n",
    "graph = builder.compile(interrupt_before=['human_feedback'], checkpointer=memory)\n",
    "display(Image(graph.get_graph(xray=1).draw_mermaid_png()))"
   ]
  },
  {
   "cell_type": "markdown",
   "id": "be14d1c6-1cfd-46c7-8e3b-d7842c813796",
   "metadata": {},
   "source": [
    "### Testing the graph"
   ]
  },
  {
   "cell_type": "code",
   "execution_count": 13,
   "id": "ef95fb4f-063f-436d-aee4-a2088f5a0e4e",
   "metadata": {},
   "outputs": [
    {
     "name": "stdout",
     "output_type": "stream",
     "text": [
      "Name: Dr. Aisha El-Sayed\n",
      "Role: Egyptologist and Field Archaeologist\n",
      "Description: Focuses on funerary archaeology, inscriptions, and burial contexts. Brings expertise in interpreting tomb graffiti, workforce villages (e.g., Deir el-Medina, Heit el-Ghurab), and contemporary records (royal inscriptions, administrative papyri) to identify who actually built the pyramids and why. Concerned with primary evidence, dating, and integrating finds into the political and religious framework of Old Kingdom Egypt.\n",
      "--------------------------------------------------\n",
      "Name: Prof. Marcus Leclerc\n",
      "Role: Structural Engineer and Ancient Construction Specialist\n",
      "Description: Analyzes the engineering problems of quarrying, moving, and placing multi-ton blocks. Specializes in ramp theories, lever and sled mechanics, rope and sled friction, surveying and alignment techniques. Concerned with realistic load calculations, construction schedules, and reconciling proposed methods with the scale and precision of the monuments.\n",
      "--------------------------------------------------\n",
      "Name: Dr. Selim Hanafi\n",
      "Role: Social and Economic Historian of Ancient Egypt\n",
      "Description: Examines the organization of labor, provisioning systems, taxation/tribute, seasonal corvée labor, and the role of craftsmen versus conscripted workers. Brings data from administrative papyri, burial distributions, and logistical modeling to explain how a centralized state mobilized resources and manpower for pyramid projects.\n",
      "--------------------------------------------------\n",
      "Name: Dr. Ingrid Baum\n",
      "Role: Experimental Archaeologist and Materials Scientist\n",
      "Description: Conducts practical reconstructions and materials analyses: stone sourcing, cutting techniques, tool marks, mortar composition, and experimental trials with sleds, rollers, ramps and lifting devices. Concerned with testing hypotheses under controlled conditions to demonstrate feasibility and identify the most likely construction techniques.\n",
      "--------------------------------------------------\n",
      "Name: Dr. Rafael Ortiz\n",
      "Role: Science Communicator and Mythbusting Specialist\n",
      "Description: Specializes in evaluating alternative theories (ancient aliens, lost advanced civilizations, fringe claims) against the archaeological and engineering record. Focused on clear communication of evidence, pointing out methodological errors in pseudoscience, and explaining why mainstream interpretations are better supported while acknowledging open questions.\n",
      "--------------------------------------------------\n"
     ]
    },
    {
     "name": "stdin",
     "output_type": "stream",
     "text": [
      "Give your feedback, boss (Enter for ending feedback): \n"
     ]
    },
    {
     "name": "stdout",
     "output_type": "stream",
     "text": [
      "--------------------------------------------------\n",
      "Final state of Personas:\n",
      "Name: Dr. Aisha El-Sayed\n",
      "Role: Egyptologist and Field Archaeologist\n",
      "Description: Focuses on funerary archaeology, inscriptions, and burial contexts. Brings expertise in interpreting tomb graffiti, workforce villages (e.g., Deir el-Medina, Heit el-Ghurab), and contemporary records (royal inscriptions, administrative papyri) to identify who actually built the pyramids and why. Concerned with primary evidence, dating, and integrating finds into the political and religious framework of Old Kingdom Egypt.\n",
      "--------------------------------------------------\n",
      "Name: Prof. Marcus Leclerc\n",
      "Role: Structural Engineer and Ancient Construction Specialist\n",
      "Description: Analyzes the engineering problems of quarrying, moving, and placing multi-ton blocks. Specializes in ramp theories, lever and sled mechanics, rope and sled friction, surveying and alignment techniques. Concerned with realistic load calculations, construction schedules, and reconciling proposed methods with the scale and precision of the monuments.\n",
      "--------------------------------------------------\n",
      "Name: Dr. Selim Hanafi\n",
      "Role: Social and Economic Historian of Ancient Egypt\n",
      "Description: Examines the organization of labor, provisioning systems, taxation/tribute, seasonal corvée labor, and the role of craftsmen versus conscripted workers. Brings data from administrative papyri, burial distributions, and logistical modeling to explain how a centralized state mobilized resources and manpower for pyramid projects.\n",
      "--------------------------------------------------\n",
      "Name: Dr. Ingrid Baum\n",
      "Role: Experimental Archaeologist and Materials Scientist\n",
      "Description: Conducts practical reconstructions and materials analyses: stone sourcing, cutting techniques, tool marks, mortar composition, and experimental trials with sleds, rollers, ramps and lifting devices. Concerned with testing hypotheses under controlled conditions to demonstrate feasibility and identify the most likely construction techniques.\n",
      "--------------------------------------------------\n",
      "Name: Dr. Rafael Ortiz\n",
      "Role: Science Communicator and Mythbusting Specialist\n",
      "Description: Specializes in evaluating alternative theories (ancient aliens, lost advanced civilizations, fringe claims) against the archaeological and engineering record. Focused on clear communication of evidence, pointing out methodological errors in pseudoscience, and explaining why mainstream interpretations are better supported while acknowledging open questions.\n",
      "--------------------------------------------------\n"
     ]
    }
   ],
   "source": [
    "thread_id = str(uuid.uuid4())\n",
    "max_personas = 5\n",
    "topic = \"Who did really build the pyramids and how were they built?\"\n",
    "thread = {\"configurable\": {\"thread_id\": thread_id}}\n",
    "\n",
    "\n",
    "insert_topic_in_graph(topic, max_personas, thread, graph)\n",
    "\n",
    "get_human_feedback_to_generate_personas(thread, graph)\n",
    "\n",
    "finish_personas_creation(thread, graph)"
   ]
  },
  {
   "cell_type": "code",
   "execution_count": 15,
   "id": "82737266-d57a-4a6b-ba33-db4ff3b9777e",
   "metadata": {},
   "outputs": [
    {
     "data": {
      "text/plain": [
       "StateSnapshot(values={'messages': [], 'topic': 'Who did really build the pyramids and how were they built?', 'max_personas': 5, 'personas': [Persona(name='Dr. Aisha el-Masry', role='Egyptologist & Field Archaeologist', description='Focuses on the human evidence: worker villages, tomb inscriptions, payroll records, and funerary remains. Expertise in interpreting hieroglyphic records, cemetery archaeology, and social organization to explain who the builders were and how labor was organized.'), Persona(name='Prof. Thomas Sinclair', role='Structural Engineer and Construction Historian', description='Analyzes engineering solutions, load calculations, ramp hypotheses, and construction sequencing. Concerned with practical mechanics of lifting, aligning and placing huge blocks and with reconciling textual/archaeological evidence with feasible building techniques.'), Persona(name='Dr. Maya López', role='Experimental Archaeologist', description='Designs and runs hands-on reconstructions of ancient methods (sledges, ropes, levers, lubrication, and stone dressing). Uses controlled experiments to test competing theories about transport, handling and placement of blocks and to quantify labor requirements.'), Persona(name='Dr. Karim al-Harith', role='Geologist and Materials Scientist', description='Specializes in provenance studies, petrography, quarrying methods and toolmark analysis. Investigates stone sourcing, mortar and plaster composition, and the effectiveness and limits of copper and bronze tools for cutting and dressing limestone and granite.'), Persona(name='Dr. Leah Rosen', role='Science Communicator and Skeptic', description='Addresses popular misconceptions and fringe claims (e.g., alien builders, hyper-advanced lost technologies) by translating archaeological evidence for the public and providing clear, evidence-based rebuttals. Focused on media engagement, historiography, and literacy about scientific methods.')], 'human_boss_feedback': None}, next=('coordinator',), config={'configurable': {'thread_id': '8d7a40a3-423f-49b5-b2fc-6dbc40dfcde3', 'checkpoint_ns': '', 'checkpoint_id': '1f07c9c8-87f4-62bf-8002-adc534376d7d'}}, metadata={'source': 'update', 'step': 2, 'parents': {}}, created_at='2025-08-19T01:33:39.526901+00:00', parent_config={'configurable': {'thread_id': '8d7a40a3-423f-49b5-b2fc-6dbc40dfcde3', 'checkpoint_ns': '', 'checkpoint_id': '1f07c9c8-779c-6c86-8001-b62cc0b2e117'}}, tasks=(PregelTask(id='42481de3-9c4c-3db3-aa04-f588f5f3de56', name='coordinator', path=('__pregel_pull', 'coordinator'), error=None, interrupts=(), state=None, result=None),), interrupts=())"
      ]
     },
     "execution_count": 15,
     "metadata": {},
     "output_type": "execute_result"
    }
   ],
   "source": [
    "state = graph.get_state(thread)\n",
    "state"
   ]
  },
  {
   "cell_type": "markdown",
   "id": "f6d34ebe-fe69-4a0e-a986-3d09c6ff3c18",
   "metadata": {},
   "source": [
    "### Initiate conversation"
   ]
  },
  {
   "cell_type": "code",
   "execution_count": 14,
   "id": "054d6b4d-2eb3-40c7-85c9-9fa051d3b2ce",
   "metadata": {},
   "outputs": [
    {
     "name": "stdout",
     "output_type": "stream",
     "text": [
      "==================================\u001b[1m Ai Message \u001b[0m==================================\n",
      "\n",
      "Dr. Aisha El-Sayed — Egyptologist and Field Archaeologist.\n",
      "\n",
      "My view, based on inscriptions, worker burials and villages (Heit el‑Ghurab, Deir el‑Medina parallels), and administrative records (including the Wadi al‑Jarf papyri), is that the pyramids were built by organized Egyptian workforces: skilled masons, carpenters and engineers supplemented by seasonal laborers (a rotating corvée), not by chattel slaves. Graffiti with crew names, the cemeteries of workers treated with respect, and evidence of provisioning show these were state‑run projects that mobilized manpower, resources and logistics on an unprecedented scale.\n",
      "\n",
      "Construction combined prodigious logistics (river transport by boats, canals and possibly purpose‑built harbors/dikes to bring stone to the plateau) with practical engineering: large sledges and rollers on wet sand, sophisticated stone dressing, and a mix of ramp and levering strategies. There’s good evidence for Nile‑borne transport (Wadi al‑Jarf), large worker villages for housing and provisioning, and multiple ramp/hoisting solutions — the exact combination (external ramps, temporary internal ramps, levering and spiral techniques) is still debated and likely varied between sites and phases.\n",
      "\n",
      "In short: state‑organized Egyptian artisans and laborers built the pyramids using well‑planned logistics and a toolbox of hauling, ramping and levering techniques; new finds continue to refine particulars but reinforce the picture of a coordinated, bureaucratic enterprise rooted in Old Kingdom religious and political imperatives. If you want, I can point you to the key papyri, graffiti and excavation reports.\n"
     ]
    }
   ],
   "source": [
    "first_message = \"What do you think?\"\n",
    "\n",
    "results = graph.invoke(Command(resume={\"human_input\": first_message}), thread, subgraphs=True)\n",
    "results[\"messages\"][-1].pretty_print()"
   ]
  },
  {
   "cell_type": "code",
   "execution_count": 15,
   "id": "c2a44201-0636-4dcc-a728-25f34257e784",
   "metadata": {},
   "outputs": [
    {
     "name": "stdout",
     "output_type": "stream",
     "text": [
      "==================================\u001b[1m Ai Message \u001b[0m==================================\n",
      "\n",
      "Dr. Rafael Ortiz — Science Communicator and Mythbusting Specialist.\n",
      "\n",
      "Short answer: no credible evidence that aliens built the pyramids, and the archaeological, textual and engineering records show how Old Kingdom Egyptians could and did build them. We have direct documentary and material traces of human organization and practice: the Wadi al‑Jarf papyri record shipments and labor related to stone transport, workmen’s graffiti on blocks name crews, the Heit el‑Ghurab settlement and worker cemeteries show large, provisioned labor forces, and quarry marks and ramps/sledge remains connect the quarries to the monuments.\n",
      "\n",
      "On the engineering side, experimental archaeology and physics provide plausible, tested methods: heavy blocks moved on sledges over prepared tracks (wetting the sand drastically cuts friction), dolerite pounders and copper tools plus abrasive sand were used to dress stone, and a combination of external ramps, internal spiral ramps, short temporary ramps and levering would allow vertical placement without supernatural help. Modern analyses and replica experiments have reproduced the core tasks (cutting, hauling, lifting) with Bronze‑Age technology and organized manpower.\n",
      "\n",
      "The “ancient technology can’t do it” claim fails methodologically: it rests on a negative inference (I can’t imagine how, so it must be impossible) and on special‑pleading for an extraterrestrial hypothesis that provides no testable evidence, no artifacts of non‑human manufacture, and no explanatory economy compared with the extensive human record. Conspiracy accounts also ignore decades of new finds that explicitly document logistics, provisioning and workforce organization.\n",
      "\n",
      "If you want, I can summarize the most convincing primary finds (Wadi al‑Gharf/Wadi al‑Jarf papyri, Heit el‑Ghurab reports, worker graffiti, the Giza boat pits) or walk through a step‑by‑step reconstruction of how a single pyramid block could be quarried, transported and set using ancient tools. Which would you prefer?\n"
     ]
    }
   ],
   "source": [
    "next_message = \"But some people say it's aliens who built the pyramids because ancient technology cannot achieve this task.\"\n",
    "\n",
    "results = graph.invoke(Command(resume={\"human_input\": next_message}), thread, subgraphs=True)\n",
    "results[\"messages\"][-1].pretty_print()"
   ]
  },
  {
   "cell_type": "code",
   "execution_count": 16,
   "id": "f21f6006-5970-411d-af69-663dab3ca17c",
   "metadata": {},
   "outputs": [
    {
     "name": "stdout",
     "output_type": "stream",
     "text": [
      "==================================\u001b[1m Ai Message \u001b[0m==================================\n",
      "\n",
      "Prof. Marcus Leclerc — Structural Engineer & Ancient Construction Specialist.\n",
      "\n",
      "They did not need “modern” machines to achieve precision and lift heavy blocks — they had effective, repeatable low‑tech engineering. Surveyors used stars, merkhet‑like sighting rods, gnomons and plumb‑lines to set true north and cardinal lines; water in trenches or lined channels gave an accurate horizontal datum (water finds its own level) that could be transferred across the site to sub‑centimetre tolerances. Standardized cubit rods, templates, constant checking (trial fitting, rubbing finished casings together with abrasives) and highly skilled stonemasons produced the alignment, level and tight joints you see.\n",
      "\n",
      "Moving the blocks relied on simple physics and organization. Core limestone was cut with copper tools and dolerite pounders, then floated on barges and boats along canals and the Nile to the plateau. On land, large sledges on wooden runners were hauled over prepared tracks; experimental work and ancient wall scenes plus modern studies (wetting the sand in front of the sledge) show friction can be cut dramatically, reducing the number of pullers needed. Typical core blocks are a few tonnes (some special pieces and granite elements are tens of tonnes) — well within the hauling capacity of organized crews using ropes, capstans and rollers.\n",
      "\n",
      "Raising and placing stones was done incrementally, not by one gigantic ramp. Combinations of long low ramps for early courses, temporary or reused ramps, internal/spiral ramps in the superstructure, and levering/pivoting with wooden levers and shims allowed workers to raise multi‑ton blocks step by step. Mechanical advantage (pulleys, capstans, levers, inclined planes) multiplies human force; repeated small lifts and precise trial‑fitting explain how cores and highly finished burial chambers were achieved. Experimental archaeology and load calculations repeatedly confirm these methods are realistic with Bronze‑Age materials.\n",
      "\n",
      "Bottom line: the Egyptians had practical, refined engineering, standardized procedures and massive logistics — not magic. If you like, I can give a step‑by‑step mechanical walkthrough for moving and setting a 10‑ton block (rope diameters, required pull force, number of people, and ramp geometry). Which would you prefer?\n"
     ]
    }
   ],
   "source": [
    "next_message = \"But how could ancient Egyptians build something with that precision and carry all these huge rocks with no technology?.\"\n",
    "\n",
    "results = graph.invoke(Command(resume={\"human_input\": next_message}), thread, subgraphs=True)\n",
    "results[\"messages\"][-1].pretty_print()"
   ]
  },
  {
   "cell_type": "code",
   "execution_count": 17,
   "id": "70c0fd7c-bc1d-4522-b266-46dec54ab4f1",
   "metadata": {},
   "outputs": [
    {
     "name": "stdout",
     "output_type": "stream",
     "text": [
      "==================================\u001b[1m Ai Message \u001b[0m==================================\n",
      "\n",
      "Dr. Rafael Ortiz — Science Communicator and Mythbusting Specialist.\n",
      "\n",
      "Short answer: no — there is no credible evidence that an extinct, more advanced civilization built the pyramids. The archaeological, textual and engineering records tie the monuments directly to Old Kingdom Egypt: quarry marks and tool marks, boat pits and Nile‑borne logistics (Wadi al‑Jarf/Merer papyri), the worker town at Heit el‑Ghurab and its cemeteries, crew graffiti on blocks, and administrative records and provisioning accounts. Those are independent, testable traces of people, organization and techniques — exactly the kind of evidence you should expect if humans built the pyramids.\n",
      "\n",
      "If someone proposes a lost advanced culture, they must supply equally concrete, positive evidence: uncontested non‑Egyptian artifacts with a distinct technological signature, stratigraphic layers and radiocarbon dates placing that culture before or during pyramid building, materials or methods impossible for the Old Kingdom, and signs of cultural transmission or documentation. None of that exists; claims usually rely on argument from incredulity (“I can’t imagine how they did it”) or cherry‑picked anomalies while ignoring the large body of supportive negative and positive evidence.\n",
      "\n",
      "The simpler, evidence‑based explanation is strongly supported and experimentally reproducible: organized state logistics (harbors, canals, boats), skilled craftsmen with copper tools and stone pounders, sledges on wet sand, ramps, levering and incremental lifting — techniques shown to work in trials and consistent with the archaeological record. If you want, I can list the most important primary sources (Merer/Wadi al‑Jarf papyri, Lehner’s Heit el‑Ghurab work, Giza boat finds) or walk through a mechanical step‑by‑step of how a multi‑ton block could be quarried, moved and set using Old Kingdom technology. Which would you prefer?\n"
     ]
    }
   ],
   "source": [
    "next_message = \"could this be the work of another extinct civilization that had more advanced technology that is lost today?.\"\n",
    "\n",
    "results = graph.invoke(Command(resume={\"human_input\": next_message}), thread, subgraphs=True)\n",
    "results[\"messages\"][-1].pretty_print()"
   ]
  },
  {
   "cell_type": "markdown",
   "id": "51ec64e4-ce31-4169-afdc-47582f5ac5ec",
   "metadata": {},
   "source": [
    "### Check message compression"
   ]
  },
  {
   "cell_type": "code",
   "execution_count": 18,
   "id": "6690cdca-22cc-4f7b-b532-7d9ac0df7f77",
   "metadata": {},
   "outputs": [
    {
     "name": "stdout",
     "output_type": "stream",
     "text": [
      "==================================\u001b[1m Ai Message \u001b[0m==================================\n",
      "\n",
      "Conversation context: a user asked for opinions on how the pyramids were built. Three experts replied, arguing for human, state‑organized construction and rebutting “aliens did it.”\n",
      "\n",
      "Key points from each speaker\n",
      "- Dr. Aisha El‑Sayed (Egyptologist/field archaeologist)\n",
      "  - Pyramids built by organized Egyptian workforces: skilled artisans plus seasonal rotating labor (not chattel slaves).\n",
      "  - Evidence: worker graffiti naming crews, worker villages and cemeteries (Heit el‑Ghurab, Deir el‑Medina parallels), administrative records (Wadi al‑Jarf papyri), provisioning and state logistics.\n",
      "  - Construction combined river transport, canals/harbors, sledges on wet sand, stone dressing, and mixed ramp/levering techniques; specifics vary by site and phase.\n",
      "  - Offers to point to key papyri, graffiti and excavation reports.\n",
      "\n",
      "- Dr. Rafael Ortiz (science communicator/mythbusting specialist)\n",
      "  - No credible evidence for extraterrestrial involvement; archaeological, textual and engineering records explain construction.\n",
      "  - Cited Wadi al‑Jarf papyri, workmen’s graffiti, Heit el‑Ghurab, Giza boat pits, quarry marks and ramp/sledge remains.\n",
      "  - Experimental archaeology and physics reproduce feasible Bronze‑Age methods (sledges, wetting sand, dolerite pounding, copper tools, ramps/levering).\n",
      "  - Critiques the “ancient tech can’t do it” argument as negative inference/special pleading.\n",
      "  - Offers to summarize primary finds or give a step‑by‑step reconstruction of moving a block.\n",
      "\n",
      "- Prof. Marcus Leclerc (structural engineer/ancient construction specialist)\n",
      "  - Precision and lifting achievable with low‑tech engineering: survey tools (merkhet‑like rods, plumb lines, water datums), standardized cubits, templates and constant checking.\n",
      "  - Quarrying with copper tools and dolerite pounders; river/boat transport to plateau.\n",
      "  - Moving: sledges on prepared tracks, wet sand to reduce friction, ropes/capstans/rollers; typical core blocks are a few tonnes (some up to tens of tonnes).\n",
      "  - Raising: incremental methods—long ramps for lower courses, temporary/internal/spiral ramps and levering for higher courses; mechanical advantage through levers and capstans.\n",
      "  - Experimental work and load calculations support feasibility.\n",
      "  - Offers to provide a detailed mechanical walkthrough (rope sizes, forces, crew numbers, ramp geometry).\n",
      "\n",
      "Important details to continue coherently\n",
      "- Principal evidence cited: Wadi al‑Jarf papyri, Heit el‑Ghurab worker village and cemeteries, workmen’s graffiti on blocks, Giza boat pits, quarry marks and ramp traces.\n",
      "- Core techniques discussed: river transport (boats/barges), sledges on wet sand, dolerite pounders and copper tools with abrasive sand, external/temporary/internal/spiral ramps, levering/pivoting, survey methods for precision.\n",
      "- Disputed claim addressed: “aliens built the pyramids” — experts reject it for lack of testable evidence and because human archaeological and engineering records explain the monuments.\n",
      "- Next‑step options offered by the experts: (a) list/summaries of the key primary finds and reports, (b) a step‑by‑step reconstruction of quarrying/transport/setting a block, (c) a detailed mechanical walkthrough with calculations.\n",
      "\n",
      "If you want to continue: choose which follow‑up you prefer (primary sources summary, block‑by‑block reconstruction, or engineering calculations), and any preferred level of technical detail.\n",
      "================================\u001b[1m Human Message \u001b[0m=================================\n",
      "\n",
      "could this be the work of another extinct civilization that had more advanced technology that is lost today?.\n",
      "==================================\u001b[1m Ai Message \u001b[0m==================================\n",
      "\n",
      "Dr. Rafael Ortiz — Science Communicator and Mythbusting Specialist.\n",
      "\n",
      "Short answer: no — there is no credible evidence that an extinct, more advanced civilization built the pyramids. The archaeological, textual and engineering records tie the monuments directly to Old Kingdom Egypt: quarry marks and tool marks, boat pits and Nile‑borne logistics (Wadi al‑Jarf/Merer papyri), the worker town at Heit el‑Ghurab and its cemeteries, crew graffiti on blocks, and administrative records and provisioning accounts. Those are independent, testable traces of people, organization and techniques — exactly the kind of evidence you should expect if humans built the pyramids.\n",
      "\n",
      "If someone proposes a lost advanced culture, they must supply equally concrete, positive evidence: uncontested non‑Egyptian artifacts with a distinct technological signature, stratigraphic layers and radiocarbon dates placing that culture before or during pyramid building, materials or methods impossible for the Old Kingdom, and signs of cultural transmission or documentation. None of that exists; claims usually rely on argument from incredulity (“I can’t imagine how they did it”) or cherry‑picked anomalies while ignoring the large body of supportive negative and positive evidence.\n",
      "\n",
      "The simpler, evidence‑based explanation is strongly supported and experimentally reproducible: organized state logistics (harbors, canals, boats), skilled craftsmen with copper tools and stone pounders, sledges on wet sand, ramps, levering and incremental lifting — techniques shown to work in trials and consistent with the archaeological record. If you want, I can list the most important primary sources (Merer/Wadi al‑Jarf papyri, Lehner’s Heit el‑Ghurab work, Giza boat finds) or walk through a mechanical step‑by‑step of how a multi‑ton block could be quarried, moved and set using Old Kingdom technology. Which would you prefer?\n"
     ]
    }
   ],
   "source": [
    "for msg in graph.get_state(thread).values[\"messages\"]:\n",
    "    msg.pretty_print()"
   ]
  },
  {
   "cell_type": "code",
   "execution_count": 19,
   "id": "668f9000-169d-42fd-91b8-b46aad30cc06",
   "metadata": {},
   "outputs": [
    {
     "name": "stdout",
     "output_type": "stream",
     "text": [
      "==================================\u001b[1m Ai Message \u001b[0m==================================\n",
      "\n",
      "Dr. Aisha El‑Sayed — Egyptologist and Field Archaeologist.\n",
      "\n",
      "Short answer: no — the pyramids are demonstrably the work of Old Kingdom Egypt. Multiple independent, datable lines of evidence link construction to Khufu and his administration: the Wadi al‑Jarf (Merer) papyri recording shipments of Tura limestone to “Akhet‑Khufu,” worker graffiti naming crews and supervisors on blocks, the worker town and cemeteries at Heit el‑Ghurab, the Giza boat pits and harbors, quarry marks and tool traces, plus radiocarbon and ceramic sequences that all fit the late 3rd/early 4th millennium BCE. These are direct, testable traces of people, logistics and organization — exactly what you would expect for a large state building project.\n",
      "\n",
      "If someone argues for an earlier, more advanced lost civilization, they must produce positive, unambiguous material evidence of that culture in secure archaeological context: objects or technologies demonstrably beyond Old Kingdom capability (with clear provenance), stratigraphy and radiocarbon dates placing that culture contemporaneous with or prior to pyramid building, inscriptions or administrative records from that culture, unique metallurgical or material signatures, and signs of cultural transmission or disruption. Isolated anomalies, out‑of‑context finds, or arguments from “impossibility” do not meet this standard.\n",
      "\n",
      "Because the Egyptian evidence is continuous (architectural development, tomb types, inscriptions, administrative practice) and reproducible by experimental archaeology (quarrying with copper and dolerite, transport by boat and sledge, ramps/levering), the lost‑advanced‑civilization hypothesis is unnecessary and unsupported. If you want, I can (a) list the key primary publications (Merer/Wadi al‑Jarf, Heit el‑Ghurab reports, Giza boat studies, Lehner/Badawy summaries) or (b) walk through a block‑by‑block reconstruction of how Old Kingdom techniques could quarry, move and set a multi‑ton stone — which would you prefer?\n"
     ]
    }
   ],
   "source": [
    "next_message = \"\"\n",
    "\n",
    "results = graph.invoke(Command(resume={\"human_input\": next_message}), thread, subgraphs=True)\n",
    "results[\"messages\"][-1].pretty_print()"
   ]
  },
  {
   "cell_type": "markdown",
   "id": "58174417-f39f-4131-a232-e271ce980e64",
   "metadata": {},
   "source": [
    "### End conversation"
   ]
  },
  {
   "cell_type": "code",
   "execution_count": 20,
   "id": "bf264b9c-4d9a-4961-b68c-18b2e727686e",
   "metadata": {},
   "outputs": [
    {
     "name": "stdout",
     "output_type": "stream",
     "text": [
      "Concise summary of the discussion\n",
      "\n",
      "- Consensus: the pyramids were built by Old Kingdom Egyptians using state‑organized labor (skilled crews plus rotating seasonal workers), not by aliens or a lost more‑advanced civilization.\n",
      "\n",
      "- Key, datable evidence tying the work to Egyptians:\n",
      "  - Wadi al‑Jarf (Merer) papyri recording shipments of Tura limestone to “Akhet‑Khufu.”\n",
      "  - Worker graffiti naming crews and supervisors on blocks.\n",
      "  - Worker town/cemeteries at Heit el‑Ghurab and related administrative/ provisioning remains.\n",
      "  - Giza boat pits, quarry marks, tool marks, and consistent ceramic/radiocarbon sequences.\n",
      "\n",
      "- Practical, demonstrated construction methods:\n",
      "  - Quarrying with copper tools and dolerite pounders plus abrasive sand.\n",
      "  - River/harbor transport on boats/barges; sledges on prepared tracks with wet sand to reduce friction.\n",
      "  - Raising techniques: external ramps for lower courses, internal/spiral/temporary ramps and levering for higher courses; use of ropes, capstans, levers and careful surveying (plumb lines, cubit standards, water levels).\n",
      "  - Experimental archaeology and engineering calculations show these methods are feasible.\n",
      "\n",
      "- Why a lost advanced civilization is unnecessary/unlikely:\n",
      "  - No positive, uncontested archaeological evidence for a separate pre‑Egyptian advanced culture (no distinct technological artifacts in secure context, no stratigraphic/radiocarbon support, no inscriptions or administration).\n",
      "  - Extraordinary claims would require extraordinary, testable material proof — which is absent. Appeals to “we can’t imagine how they did it” are not evidence.\n",
      "\n",
      "- Next steps offered by experts (if you want more detail): summaries of primary sources, a block‑by‑block reconstruction of quarrying/transport/setting, or detailed mechanical calculations (crew sizes, rope forces, ramp geometry).\n"
     ]
    }
   ],
   "source": [
    "next_message = \"end\"\n",
    "\n",
    "graph.invoke(Command(resume={\"human_input\": next_message}), thread, subgraphs=True)\n",
    "state = graph.get_state(thread, subgraphs=True)\n",
    "print(state.values.get('summary').content)"
   ]
  }
 ],
 "metadata": {
  "kernelspec": {
   "display_name": "Python 3 (ipykernel)",
   "language": "python",
   "name": "python3"
  },
  "language_info": {
   "codemirror_mode": {
    "name": "ipython",
    "version": 3
   },
   "file_extension": ".py",
   "mimetype": "text/x-python",
   "name": "python",
   "nbconvert_exporter": "python",
   "pygments_lexer": "ipython3",
   "version": "3.11.2"
  }
 },
 "nbformat": 4,
 "nbformat_minor": 5
}
